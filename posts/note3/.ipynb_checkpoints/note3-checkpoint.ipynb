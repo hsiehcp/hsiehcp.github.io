{
 "cells": [
  {
   "cell_type": "raw",
   "id": "5c22ac65-1c23-4d37-9f2a-fd6c225a33af",
   "metadata": {},
   "source": [
    "---\n",
    "title: \"測試 jupyter lab 檔\"\n",
    "author: \"blogger\"\n",
    "date: \"2025-10-23\"\n",
    "categories: [code]\n",
    "jupyter: python3\n",
    "---"
   ]
  },
  {
   "cell_type": "code",
   "execution_count": 1,
   "id": "94ea3b60-5830-408e-8022-983b41b0ed5b",
   "metadata": {},
   "outputs": [
    {
     "data": {
      "text/plain": [
       "7"
      ]
     },
     "execution_count": 1,
     "metadata": {},
     "output_type": "execute_result"
    }
   ],
   "source": [
    "3 + 4"
   ]
  },
  {
   "cell_type": "markdown",
   "id": "5d4feee3-a998-4533-9f3e-8eec9c973c06",
   "metadata": {},
   "source": [
    "顯示數學式 $3 + 3 = 6$\n",
    "\n",
    "$$\n",
    "2 + 8 = 7\n",
    "$$"
   ]
  }
 ],
 "metadata": {
  "kernelspec": {
   "display_name": "Python 3 (ipykernel)",
   "language": "python",
   "name": "python3"
  },
  "language_info": {
   "codemirror_mode": {
    "name": "ipython",
    "version": 3
   },
   "file_extension": ".py",
   "mimetype": "text/x-python",
   "name": "python",
   "nbconvert_exporter": "python",
   "pygments_lexer": "ipython3",
   "version": "3.11.8"
  }
 },
 "nbformat": 4,
 "nbformat_minor": 5
}
